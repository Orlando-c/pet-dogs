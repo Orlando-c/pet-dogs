{
  "nbformat": 4,
  "nbformat_minor": 0,
  "metadata": {
    "colab": {
      "name": "222-08-21 test sample notebook.ipynb",
      "provenance": []
    },
    "kernelspec": {
      "name": "python3",
      "display_name": "Python 3"
    },
    "language_info": {
      "name": "python"
    }
  },
  "cells": [
    {
      "cell_type": "markdown",
      "source": [
        ""
      ],
      "metadata": {
        "id": "YEQQWXibddTJ"
      }
    },
    {
      "cell_type": "markdown",
      "source": [
        "# First epic post\n",
        "\n",
        "> An test of how to do the whole jupyter notebook thing (:\n",
        "\n",
        "- toc: true\n",
        "- badges: true\n",
        "- comments: true\n",
        "- categories: [jupyter]\n",
        "\n",
        "> lets add an image!\n",
        "\n",
        "- image: images/cooltext417767056792529.png.gif"
      ],
      "metadata": {
        "id": "YcwEkwpkdeS9"
      }
    },
    {
      "cell_type": "code",
      "source": [
        "print(\"hello world\")"
      ],
      "metadata": {
        "colab": {
          "base_uri": "https://localhost:8080/"
        },
        "id": "Q1Vol6M09c54",
        "outputId": "109f1c84-a526-4113-823c-51badd69aee3"
      },
      "execution_count": null,
      "outputs": [
        {
          "output_type": "stream",
          "name": "stdout",
          "text": [
            "hello world\n"
          ]
        }
      ]
    }
  ]
}