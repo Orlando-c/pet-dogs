{
  "nbformat": 4,
  "nbformat_minor": 0,
  "metadata": {
    "colab": {
      "name": "222-08-21 test sample notebook.ipynb",
      "provenance": []
    },
    "kernelspec": {
      "name": "python3",
      "display_name": "Python 3"
    },
    "language_info": {
      "name": "python"
    }
  },
  "cells": [
    {
      "cell_type": "markdown",
      "source": [
        ""
      ],
      "metadata": {
        "id": "YEQQWXibddTJ"
      }
    },
    {
      "cell_type": "markdown",
      "source": [
        "# First epic post\n",
        "\n",
        "> An test of how to do the whole jupyter notebook thing (:\n"
      ],
      "metadata": {
        "id": "YcwEkwpkdeS9"
      }
    }
  ]
}